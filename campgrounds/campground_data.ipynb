{
 "cells": [
  {
   "cell_type": "code",
   "execution_count": 1,
   "metadata": {
    "collapsed": false
   },
   "outputs": [],
   "source": [
    "import pandas as pd\n",
    "import numpy as np\n",
    "from pandas import json"
   ]
  },
  {
   "cell_type": "code",
   "execution_count": 2,
   "metadata": {
    "collapsed": false
   },
   "outputs": [],
   "source": [
    "cg_data = pd.read_csv('campgrounds.csv')"
   ]
  },
  {
   "cell_type": "code",
   "execution_count": 3,
   "metadata": {
    "collapsed": false
   },
   "outputs": [
    {
     "data": {
      "text/plain": [
       "(11, 6)"
      ]
     },
     "execution_count": 3,
     "metadata": {},
     "output_type": "execute_result"
    }
   ],
   "source": [
    "cg_data.shape"
   ]
  },
  {
   "cell_type": "code",
   "execution_count": 4,
   "metadata": {
    "collapsed": false
   },
   "outputs": [
    {
     "data": {
      "text/html": [
       "<div>\n",
       "<table border=\"1\" class=\"dataframe\">\n",
       "  <thead>\n",
       "    <tr style=\"text-align: right;\">\n",
       "      <th></th>\n",
       "      <th>facilityname</th>\n",
       "      <th>facilitylatitude</th>\n",
       "      <th>facilitylongitude</th>\n",
       "      <th>flush</th>\n",
       "      <th>shower</th>\n",
       "      <th>vault</th>\n",
       "    </tr>\n",
       "  </thead>\n",
       "  <tbody>\n",
       "    <tr>\n",
       "      <th>0</th>\n",
       "      <td>Mazama</td>\n",
       "      <td>42.865508</td>\n",
       "      <td>-122.166149</td>\n",
       "      <td>1</td>\n",
       "      <td>1</td>\n",
       "      <td>\\N</td>\n",
       "    </tr>\n",
       "    <tr>\n",
       "      <th>1</th>\n",
       "      <td>Claude Lewis Sno-Park-USFS</td>\n",
       "      <td>43.063217</td>\n",
       "      <td>-122.342876</td>\n",
       "      <td>\\N</td>\n",
       "      <td>\\N</td>\n",
       "      <td>1</td>\n",
       "    </tr>\n",
       "    <tr>\n",
       "      <th>2</th>\n",
       "      <td>Lost Creek</td>\n",
       "      <td>42.879145</td>\n",
       "      <td>-122.037881</td>\n",
       "      <td>1</td>\n",
       "      <td>\\N</td>\n",
       "      <td>\\N</td>\n",
       "    </tr>\n",
       "    <tr>\n",
       "      <th>3</th>\n",
       "      <td>Hamaker</td>\n",
       "      <td>43.056641</td>\n",
       "      <td>-122.330322</td>\n",
       "      <td>\\N</td>\n",
       "      <td>\\N</td>\n",
       "      <td>1</td>\n",
       "    </tr>\n",
       "    <tr>\n",
       "      <th>4</th>\n",
       "      <td>Huckleberry Mountain</td>\n",
       "      <td>42.877807</td>\n",
       "      <td>-122.337174</td>\n",
       "      <td>\\N</td>\n",
       "      <td>\\N</td>\n",
       "      <td>1</td>\n",
       "    </tr>\n",
       "  </tbody>\n",
       "</table>\n",
       "</div>"
      ],
      "text/plain": [
       "                 facilityname  facilitylatitude  facilitylongitude flush  \\\n",
       "0                      Mazama         42.865508        -122.166149     1   \n",
       "1  Claude Lewis Sno-Park-USFS         43.063217        -122.342876    \\N   \n",
       "2                  Lost Creek         42.879145        -122.037881     1   \n",
       "3                     Hamaker         43.056641        -122.330322    \\N   \n",
       "4        Huckleberry Mountain         42.877807        -122.337174    \\N   \n",
       "\n",
       "  shower vault  \n",
       "0      1    \\N  \n",
       "1     \\N     1  \n",
       "2     \\N    \\N  \n",
       "3     \\N     1  \n",
       "4     \\N     1  "
      ]
     },
     "execution_count": 4,
     "metadata": {},
     "output_type": "execute_result"
    }
   ],
   "source": [
    "cg_data.head()"
   ]
  },
  {
   "cell_type": "code",
   "execution_count": 7,
   "metadata": {
    "collapsed": true
   },
   "outputs": [],
   "source": [
    "cg_data_clean = cg_data"
   ]
  },
  {
   "cell_type": "code",
   "execution_count": 11,
   "metadata": {
    "collapsed": true
   },
   "outputs": [],
   "source": [
    "cg_data_clean = cg_data_clean.replace({'flush': {'1': 'Flush toilet', '0':'', '\\\\N':''}})\n",
    "cg_data_clean = cg_data_clean.replace({'shower': {'1': 'Shower', '0':'', '\\\\N':''}})\n",
    "cg_data_clean = cg_data_clean.replace({'vault': {'1': 'Vault toilet', '0':'', '\\\\N':''}})"
   ]
  },
  {
   "cell_type": "code",
   "execution_count": 12,
   "metadata": {
    "collapsed": true
   },
   "outputs": [],
   "source": [
    "cg_data_clean = cg_data_clean.rename(columns={'facilityname': 'title',\n",
    "                                             'facilitylatitude': 'latitude',\n",
    "                                             'facilitylongitude': 'longitude'})"
   ]
  },
  {
   "cell_type": "code",
   "execution_count": 13,
   "metadata": {
    "collapsed": false
   },
   "outputs": [
    {
     "data": {
      "text/html": [
       "<div>\n",
       "<table border=\"1\" class=\"dataframe\">\n",
       "  <thead>\n",
       "    <tr style=\"text-align: right;\">\n",
       "      <th></th>\n",
       "      <th>title</th>\n",
       "      <th>latitude</th>\n",
       "      <th>longitude</th>\n",
       "      <th>flush</th>\n",
       "      <th>shower</th>\n",
       "      <th>vault</th>\n",
       "    </tr>\n",
       "  </thead>\n",
       "  <tbody>\n",
       "    <tr>\n",
       "      <th>0</th>\n",
       "      <td>Mazama</td>\n",
       "      <td>42.865508</td>\n",
       "      <td>-122.166149</td>\n",
       "      <td>Flush toilet</td>\n",
       "      <td>Shower</td>\n",
       "      <td></td>\n",
       "    </tr>\n",
       "    <tr>\n",
       "      <th>1</th>\n",
       "      <td>Claude Lewis Sno-Park-USFS</td>\n",
       "      <td>43.063217</td>\n",
       "      <td>-122.342876</td>\n",
       "      <td></td>\n",
       "      <td></td>\n",
       "      <td>Vault toilet</td>\n",
       "    </tr>\n",
       "    <tr>\n",
       "      <th>2</th>\n",
       "      <td>Lost Creek</td>\n",
       "      <td>42.879145</td>\n",
       "      <td>-122.037881</td>\n",
       "      <td>Flush toilet</td>\n",
       "      <td></td>\n",
       "      <td></td>\n",
       "    </tr>\n",
       "    <tr>\n",
       "      <th>3</th>\n",
       "      <td>Hamaker</td>\n",
       "      <td>43.056641</td>\n",
       "      <td>-122.330322</td>\n",
       "      <td></td>\n",
       "      <td></td>\n",
       "      <td>Vault toilet</td>\n",
       "    </tr>\n",
       "    <tr>\n",
       "      <th>4</th>\n",
       "      <td>Huckleberry Mountain</td>\n",
       "      <td>42.877807</td>\n",
       "      <td>-122.337174</td>\n",
       "      <td></td>\n",
       "      <td></td>\n",
       "      <td>Vault toilet</td>\n",
       "    </tr>\n",
       "    <tr>\n",
       "      <th>5</th>\n",
       "      <td>Natural Bridge -USFS</td>\n",
       "      <td>42.889648</td>\n",
       "      <td>-122.463867</td>\n",
       "      <td></td>\n",
       "      <td></td>\n",
       "      <td>Vault toilet</td>\n",
       "    </tr>\n",
       "    <tr>\n",
       "      <th>6</th>\n",
       "      <td>Farewell Bend</td>\n",
       "      <td>42.919678</td>\n",
       "      <td>-122.433105</td>\n",
       "      <td></td>\n",
       "      <td></td>\n",
       "      <td></td>\n",
       "    </tr>\n",
       "    <tr>\n",
       "      <th>7</th>\n",
       "      <td>Scott Creek</td>\n",
       "      <td>42.884588</td>\n",
       "      <td>-121.924772</td>\n",
       "      <td></td>\n",
       "      <td></td>\n",
       "      <td>Vault toilet</td>\n",
       "    </tr>\n",
       "    <tr>\n",
       "      <th>8</th>\n",
       "      <td>Thousand Springs Sno-Park-USFS</td>\n",
       "      <td>42.913045</td>\n",
       "      <td>-122.324644</td>\n",
       "      <td></td>\n",
       "      <td></td>\n",
       "      <td>Vault toilet</td>\n",
       "    </tr>\n",
       "    <tr>\n",
       "      <th>9</th>\n",
       "      <td>Union Creek</td>\n",
       "      <td>42.910278</td>\n",
       "      <td>-122.450000</td>\n",
       "      <td></td>\n",
       "      <td></td>\n",
       "      <td>Vault toilet</td>\n",
       "    </tr>\n",
       "    <tr>\n",
       "      <th>10</th>\n",
       "      <td>Farewell Bend Campground</td>\n",
       "      <td>42.916239</td>\n",
       "      <td>-122.435331</td>\n",
       "      <td></td>\n",
       "      <td></td>\n",
       "      <td></td>\n",
       "    </tr>\n",
       "  </tbody>\n",
       "</table>\n",
       "</div>"
      ],
      "text/plain": [
       "                             title   latitude   longitude         flush  \\\n",
       "0                           Mazama  42.865508 -122.166149  Flush toilet   \n",
       "1       Claude Lewis Sno-Park-USFS  43.063217 -122.342876                 \n",
       "2                       Lost Creek  42.879145 -122.037881  Flush toilet   \n",
       "3                          Hamaker  43.056641 -122.330322                 \n",
       "4             Huckleberry Mountain  42.877807 -122.337174                 \n",
       "5             Natural Bridge -USFS  42.889648 -122.463867                 \n",
       "6                    Farewell Bend  42.919678 -122.433105                 \n",
       "7                      Scott Creek  42.884588 -121.924772                 \n",
       "8   Thousand Springs Sno-Park-USFS  42.913045 -122.324644                 \n",
       "9                      Union Creek  42.910278 -122.450000                 \n",
       "10        Farewell Bend Campground  42.916239 -122.435331                 \n",
       "\n",
       "    shower         vault  \n",
       "0   Shower                \n",
       "1           Vault toilet  \n",
       "2                         \n",
       "3           Vault toilet  \n",
       "4           Vault toilet  \n",
       "5           Vault toilet  \n",
       "6                         \n",
       "7           Vault toilet  \n",
       "8           Vault toilet  \n",
       "9           Vault toilet  \n",
       "10                        "
      ]
     },
     "execution_count": 13,
     "metadata": {},
     "output_type": "execute_result"
    }
   ],
   "source": [
    "cg_data_clean"
   ]
  },
  {
   "cell_type": "code",
   "execution_count": 14,
   "metadata": {
    "collapsed": true
   },
   "outputs": [],
   "source": [
    "cg_data_clean['description'] = cg_data_clean[['flush','shower','vault']].apply(lambda x: ', '.join(x), axis=1)"
   ]
  },
  {
   "cell_type": "code",
   "execution_count": 17,
   "metadata": {
    "collapsed": true
   },
   "outputs": [],
   "source": [
    "def clean_description(description):\n",
    "    description = description.strip()\n",
    "    while((description.startswith(',') or description.endswith(',')) and len(description) > -1):\n",
    "        if description.endswith(','):\n",
    "            description = description[0:len(description)-1]\n",
    "        if description.startswith(','):\n",
    "            description = description[1:len(description)]\n",
    "        description = description.strip()\n",
    "    return description"
   ]
  },
  {
   "cell_type": "code",
   "execution_count": 18,
   "metadata": {
    "collapsed": false
   },
   "outputs": [],
   "source": [
    "cg_data_clean['description'] = cg_data_clean.description.apply(lambda x: clean_description(x))"
   ]
  },
  {
   "cell_type": "code",
   "execution_count": 19,
   "metadata": {
    "collapsed": false
   },
   "outputs": [
    {
     "data": {
      "text/html": [
       "<div>\n",
       "<table border=\"1\" class=\"dataframe\">\n",
       "  <thead>\n",
       "    <tr style=\"text-align: right;\">\n",
       "      <th></th>\n",
       "      <th>title</th>\n",
       "      <th>latitude</th>\n",
       "      <th>longitude</th>\n",
       "      <th>flush</th>\n",
       "      <th>shower</th>\n",
       "      <th>vault</th>\n",
       "      <th>description</th>\n",
       "    </tr>\n",
       "  </thead>\n",
       "  <tbody>\n",
       "    <tr>\n",
       "      <th>0</th>\n",
       "      <td>Mazama</td>\n",
       "      <td>42.865508</td>\n",
       "      <td>-122.166149</td>\n",
       "      <td>Flush toilet</td>\n",
       "      <td>Shower</td>\n",
       "      <td></td>\n",
       "      <td>Flush toilet, Shower</td>\n",
       "    </tr>\n",
       "    <tr>\n",
       "      <th>1</th>\n",
       "      <td>Claude Lewis Sno-Park-USFS</td>\n",
       "      <td>43.063217</td>\n",
       "      <td>-122.342876</td>\n",
       "      <td></td>\n",
       "      <td></td>\n",
       "      <td>Vault toilet</td>\n",
       "      <td>Vault toilet</td>\n",
       "    </tr>\n",
       "    <tr>\n",
       "      <th>2</th>\n",
       "      <td>Lost Creek</td>\n",
       "      <td>42.879145</td>\n",
       "      <td>-122.037881</td>\n",
       "      <td>Flush toilet</td>\n",
       "      <td></td>\n",
       "      <td></td>\n",
       "      <td>Flush toilet</td>\n",
       "    </tr>\n",
       "    <tr>\n",
       "      <th>3</th>\n",
       "      <td>Hamaker</td>\n",
       "      <td>43.056641</td>\n",
       "      <td>-122.330322</td>\n",
       "      <td></td>\n",
       "      <td></td>\n",
       "      <td>Vault toilet</td>\n",
       "      <td>Vault toilet</td>\n",
       "    </tr>\n",
       "    <tr>\n",
       "      <th>4</th>\n",
       "      <td>Huckleberry Mountain</td>\n",
       "      <td>42.877807</td>\n",
       "      <td>-122.337174</td>\n",
       "      <td></td>\n",
       "      <td></td>\n",
       "      <td>Vault toilet</td>\n",
       "      <td>Vault toilet</td>\n",
       "    </tr>\n",
       "    <tr>\n",
       "      <th>5</th>\n",
       "      <td>Natural Bridge -USFS</td>\n",
       "      <td>42.889648</td>\n",
       "      <td>-122.463867</td>\n",
       "      <td></td>\n",
       "      <td></td>\n",
       "      <td>Vault toilet</td>\n",
       "      <td>Vault toilet</td>\n",
       "    </tr>\n",
       "    <tr>\n",
       "      <th>6</th>\n",
       "      <td>Farewell Bend</td>\n",
       "      <td>42.919678</td>\n",
       "      <td>-122.433105</td>\n",
       "      <td></td>\n",
       "      <td></td>\n",
       "      <td></td>\n",
       "      <td></td>\n",
       "    </tr>\n",
       "    <tr>\n",
       "      <th>7</th>\n",
       "      <td>Scott Creek</td>\n",
       "      <td>42.884588</td>\n",
       "      <td>-121.924772</td>\n",
       "      <td></td>\n",
       "      <td></td>\n",
       "      <td>Vault toilet</td>\n",
       "      <td>Vault toilet</td>\n",
       "    </tr>\n",
       "    <tr>\n",
       "      <th>8</th>\n",
       "      <td>Thousand Springs Sno-Park-USFS</td>\n",
       "      <td>42.913045</td>\n",
       "      <td>-122.324644</td>\n",
       "      <td></td>\n",
       "      <td></td>\n",
       "      <td>Vault toilet</td>\n",
       "      <td>Vault toilet</td>\n",
       "    </tr>\n",
       "    <tr>\n",
       "      <th>9</th>\n",
       "      <td>Union Creek</td>\n",
       "      <td>42.910278</td>\n",
       "      <td>-122.450000</td>\n",
       "      <td></td>\n",
       "      <td></td>\n",
       "      <td>Vault toilet</td>\n",
       "      <td>Vault toilet</td>\n",
       "    </tr>\n",
       "    <tr>\n",
       "      <th>10</th>\n",
       "      <td>Farewell Bend Campground</td>\n",
       "      <td>42.916239</td>\n",
       "      <td>-122.435331</td>\n",
       "      <td></td>\n",
       "      <td></td>\n",
       "      <td></td>\n",
       "      <td></td>\n",
       "    </tr>\n",
       "  </tbody>\n",
       "</table>\n",
       "</div>"
      ],
      "text/plain": [
       "                             title   latitude   longitude         flush  \\\n",
       "0                           Mazama  42.865508 -122.166149  Flush toilet   \n",
       "1       Claude Lewis Sno-Park-USFS  43.063217 -122.342876                 \n",
       "2                       Lost Creek  42.879145 -122.037881  Flush toilet   \n",
       "3                          Hamaker  43.056641 -122.330322                 \n",
       "4             Huckleberry Mountain  42.877807 -122.337174                 \n",
       "5             Natural Bridge -USFS  42.889648 -122.463867                 \n",
       "6                    Farewell Bend  42.919678 -122.433105                 \n",
       "7                      Scott Creek  42.884588 -121.924772                 \n",
       "8   Thousand Springs Sno-Park-USFS  42.913045 -122.324644                 \n",
       "9                      Union Creek  42.910278 -122.450000                 \n",
       "10        Farewell Bend Campground  42.916239 -122.435331                 \n",
       "\n",
       "    shower         vault           description  \n",
       "0   Shower                Flush toilet, Shower  \n",
       "1           Vault toilet          Vault toilet  \n",
       "2                                 Flush toilet  \n",
       "3           Vault toilet          Vault toilet  \n",
       "4           Vault toilet          Vault toilet  \n",
       "5           Vault toilet          Vault toilet  \n",
       "6                                               \n",
       "7           Vault toilet          Vault toilet  \n",
       "8           Vault toilet          Vault toilet  \n",
       "9           Vault toilet          Vault toilet  \n",
       "10                                              "
      ]
     },
     "execution_count": 19,
     "metadata": {},
     "output_type": "execute_result"
    }
   ],
   "source": [
    "cg_data_clean"
   ]
  },
  {
   "cell_type": "code",
   "execution_count": 20,
   "metadata": {
    "collapsed": true
   },
   "outputs": [],
   "source": [
    "geojson_df = cg_data_clean[['title','latitude','longitude','description']]"
   ]
  },
  {
   "cell_type": "code",
   "execution_count": 21,
   "metadata": {
    "collapsed": false
   },
   "outputs": [
    {
     "data": {
      "text/html": [
       "<div>\n",
       "<table border=\"1\" class=\"dataframe\">\n",
       "  <thead>\n",
       "    <tr style=\"text-align: right;\">\n",
       "      <th></th>\n",
       "      <th>title</th>\n",
       "      <th>latitude</th>\n",
       "      <th>longitude</th>\n",
       "      <th>description</th>\n",
       "    </tr>\n",
       "  </thead>\n",
       "  <tbody>\n",
       "    <tr>\n",
       "      <th>0</th>\n",
       "      <td>Mazama</td>\n",
       "      <td>42.865508</td>\n",
       "      <td>-122.166149</td>\n",
       "      <td>Flush toilet, Shower</td>\n",
       "    </tr>\n",
       "    <tr>\n",
       "      <th>1</th>\n",
       "      <td>Claude Lewis Sno-Park-USFS</td>\n",
       "      <td>43.063217</td>\n",
       "      <td>-122.342876</td>\n",
       "      <td>Vault toilet</td>\n",
       "    </tr>\n",
       "    <tr>\n",
       "      <th>2</th>\n",
       "      <td>Lost Creek</td>\n",
       "      <td>42.879145</td>\n",
       "      <td>-122.037881</td>\n",
       "      <td>Flush toilet</td>\n",
       "    </tr>\n",
       "    <tr>\n",
       "      <th>3</th>\n",
       "      <td>Hamaker</td>\n",
       "      <td>43.056641</td>\n",
       "      <td>-122.330322</td>\n",
       "      <td>Vault toilet</td>\n",
       "    </tr>\n",
       "    <tr>\n",
       "      <th>4</th>\n",
       "      <td>Huckleberry Mountain</td>\n",
       "      <td>42.877807</td>\n",
       "      <td>-122.337174</td>\n",
       "      <td>Vault toilet</td>\n",
       "    </tr>\n",
       "    <tr>\n",
       "      <th>5</th>\n",
       "      <td>Natural Bridge -USFS</td>\n",
       "      <td>42.889648</td>\n",
       "      <td>-122.463867</td>\n",
       "      <td>Vault toilet</td>\n",
       "    </tr>\n",
       "    <tr>\n",
       "      <th>6</th>\n",
       "      <td>Farewell Bend</td>\n",
       "      <td>42.919678</td>\n",
       "      <td>-122.433105</td>\n",
       "      <td></td>\n",
       "    </tr>\n",
       "    <tr>\n",
       "      <th>7</th>\n",
       "      <td>Scott Creek</td>\n",
       "      <td>42.884588</td>\n",
       "      <td>-121.924772</td>\n",
       "      <td>Vault toilet</td>\n",
       "    </tr>\n",
       "    <tr>\n",
       "      <th>8</th>\n",
       "      <td>Thousand Springs Sno-Park-USFS</td>\n",
       "      <td>42.913045</td>\n",
       "      <td>-122.324644</td>\n",
       "      <td>Vault toilet</td>\n",
       "    </tr>\n",
       "    <tr>\n",
       "      <th>9</th>\n",
       "      <td>Union Creek</td>\n",
       "      <td>42.910278</td>\n",
       "      <td>-122.450000</td>\n",
       "      <td>Vault toilet</td>\n",
       "    </tr>\n",
       "    <tr>\n",
       "      <th>10</th>\n",
       "      <td>Farewell Bend Campground</td>\n",
       "      <td>42.916239</td>\n",
       "      <td>-122.435331</td>\n",
       "      <td></td>\n",
       "    </tr>\n",
       "  </tbody>\n",
       "</table>\n",
       "</div>"
      ],
      "text/plain": [
       "                             title   latitude   longitude  \\\n",
       "0                           Mazama  42.865508 -122.166149   \n",
       "1       Claude Lewis Sno-Park-USFS  43.063217 -122.342876   \n",
       "2                       Lost Creek  42.879145 -122.037881   \n",
       "3                          Hamaker  43.056641 -122.330322   \n",
       "4             Huckleberry Mountain  42.877807 -122.337174   \n",
       "5             Natural Bridge -USFS  42.889648 -122.463867   \n",
       "6                    Farewell Bend  42.919678 -122.433105   \n",
       "7                      Scott Creek  42.884588 -121.924772   \n",
       "8   Thousand Springs Sno-Park-USFS  42.913045 -122.324644   \n",
       "9                      Union Creek  42.910278 -122.450000   \n",
       "10        Farewell Bend Campground  42.916239 -122.435331   \n",
       "\n",
       "             description  \n",
       "0   Flush toilet, Shower  \n",
       "1           Vault toilet  \n",
       "2           Flush toilet  \n",
       "3           Vault toilet  \n",
       "4           Vault toilet  \n",
       "5           Vault toilet  \n",
       "6                         \n",
       "7           Vault toilet  \n",
       "8           Vault toilet  \n",
       "9           Vault toilet  \n",
       "10                        "
      ]
     },
     "execution_count": 21,
     "metadata": {},
     "output_type": "execute_result"
    }
   ],
   "source": [
    "geojson_df"
   ]
  },
  {
   "cell_type": "code",
   "execution_count": 22,
   "metadata": {
    "collapsed": true
   },
   "outputs": [],
   "source": [
    "collection = {'type':'FeatureCollection', 'features':[]}"
   ]
  },
  {
   "cell_type": "code",
   "execution_count": 24,
   "metadata": {
    "collapsed": true
   },
   "outputs": [],
   "source": [
    "def feature_from_row(title, latitude, longitude, description):\n",
    "    feature = {'type': 'Feature',\n",
    "              'properties': {'title': '', 'description': ''},\n",
    "              'geometry': {'type': 'Point', 'coordinates': []}\n",
    "              }\n",
    "    feature['geometry']['coordinates'] = [longitude, latitude]\n",
    "    feature['properties']['title'] = title\n",
    "    feature['properties']['description'] = description\n",
    "    collection['features'].append(feature)\n",
    "    return feature"
   ]
  },
  {
   "cell_type": "code",
   "execution_count": 25,
   "metadata": {
    "collapsed": true
   },
   "outputs": [],
   "source": [
    "geojson_series = geojson_df.apply(lambda x: feature_from_row(x['title'],x['latitude'],x['longitude'],x['description']),\n",
    "                                 axis=1)"
   ]
  },
  {
   "cell_type": "code",
   "execution_count": 26,
   "metadata": {
    "collapsed": false
   },
   "outputs": [
    {
     "data": {
      "text/plain": [
       "{'features': [{'geometry': {'coordinates': [-122.166149, 42.865508],\n",
       "    'type': 'Point'},\n",
       "   'properties': {'description': 'Flush toilet, Shower', 'title': 'Mazama'},\n",
       "   'type': 'Feature'},\n",
       "  {'geometry': {'coordinates': [-122.342876, 43.063217], 'type': 'Point'},\n",
       "   'properties': {'description': 'Vault toilet',\n",
       "    'title': 'Claude Lewis Sno-Park-USFS'},\n",
       "   'type': 'Feature'},\n",
       "  {'geometry': {'coordinates': [-122.037881, 42.879145], 'type': 'Point'},\n",
       "   'properties': {'description': 'Flush toilet', 'title': 'Lost Creek'},\n",
       "   'type': 'Feature'},\n",
       "  {'geometry': {'coordinates': [-122.330322, 43.056641], 'type': 'Point'},\n",
       "   'properties': {'description': 'Vault toilet', 'title': 'Hamaker'},\n",
       "   'type': 'Feature'},\n",
       "  {'geometry': {'coordinates': [-122.337174, 42.877807], 'type': 'Point'},\n",
       "   'properties': {'description': 'Vault toilet',\n",
       "    'title': 'Huckleberry Mountain'},\n",
       "   'type': 'Feature'},\n",
       "  {'geometry': {'coordinates': [-122.463867, 42.889648], 'type': 'Point'},\n",
       "   'properties': {'description': 'Vault toilet',\n",
       "    'title': 'Natural Bridge -USFS'},\n",
       "   'type': 'Feature'},\n",
       "  {'geometry': {'coordinates': [-122.433105, 42.91967800000001],\n",
       "    'type': 'Point'},\n",
       "   'properties': {'description': '', 'title': 'Farewell Bend'},\n",
       "   'type': 'Feature'},\n",
       "  {'geometry': {'coordinates': [-121.924772, 42.884588], 'type': 'Point'},\n",
       "   'properties': {'description': 'Vault toilet', 'title': 'Scott Creek'},\n",
       "   'type': 'Feature'},\n",
       "  {'geometry': {'coordinates': [-122.324644, 42.913045], 'type': 'Point'},\n",
       "   'properties': {'description': 'Vault toilet',\n",
       "    'title': 'Thousand Springs Sno-Park-USFS'},\n",
       "   'type': 'Feature'},\n",
       "  {'geometry': {'coordinates': [-122.45, 42.910277777800005], 'type': 'Point'},\n",
       "   'properties': {'description': 'Vault toilet', 'title': 'Union Creek'},\n",
       "   'type': 'Feature'},\n",
       "  {'geometry': {'coordinates': [-122.43533055555599, 42.9162388889],\n",
       "    'type': 'Point'},\n",
       "   'properties': {'description': '', 'title': 'Farewell Bend Campground'},\n",
       "   'type': 'Feature'}],\n",
       " 'type': 'FeatureCollection'}"
      ]
     },
     "execution_count": 26,
     "metadata": {},
     "output_type": "execute_result"
    }
   ],
   "source": [
    "collection"
   ]
  },
  {
   "cell_type": "code",
   "execution_count": 27,
   "metadata": {
    "collapsed": true
   },
   "outputs": [],
   "source": [
    "with open('collection.geojson', 'w') as outfile:\n",
    "    json.dump(collection, outfile)"
   ]
  },
  {
   "cell_type": "code",
   "execution_count": 28,
   "metadata": {
    "collapsed": true
   },
   "outputs": [],
   "source": [
    "test = pd.read_json('collection.geojson')"
   ]
  },
  {
   "cell_type": "code",
   "execution_count": 29,
   "metadata": {
    "collapsed": false
   },
   "outputs": [
    {
     "data": {
      "text/html": [
       "<div>\n",
       "<table border=\"1\" class=\"dataframe\">\n",
       "  <thead>\n",
       "    <tr style=\"text-align: right;\">\n",
       "      <th></th>\n",
       "      <th>features</th>\n",
       "      <th>type</th>\n",
       "    </tr>\n",
       "  </thead>\n",
       "  <tbody>\n",
       "    <tr>\n",
       "      <th>0</th>\n",
       "      <td>{'properties': {'description': 'Flush toilet, ...</td>\n",
       "      <td>FeatureCollection</td>\n",
       "    </tr>\n",
       "    <tr>\n",
       "      <th>1</th>\n",
       "      <td>{'properties': {'description': 'Vault toilet',...</td>\n",
       "      <td>FeatureCollection</td>\n",
       "    </tr>\n",
       "    <tr>\n",
       "      <th>2</th>\n",
       "      <td>{'properties': {'description': 'Flush toilet',...</td>\n",
       "      <td>FeatureCollection</td>\n",
       "    </tr>\n",
       "    <tr>\n",
       "      <th>3</th>\n",
       "      <td>{'properties': {'description': 'Vault toilet',...</td>\n",
       "      <td>FeatureCollection</td>\n",
       "    </tr>\n",
       "    <tr>\n",
       "      <th>4</th>\n",
       "      <td>{'properties': {'description': 'Vault toilet',...</td>\n",
       "      <td>FeatureCollection</td>\n",
       "    </tr>\n",
       "    <tr>\n",
       "      <th>5</th>\n",
       "      <td>{'properties': {'description': 'Vault toilet',...</td>\n",
       "      <td>FeatureCollection</td>\n",
       "    </tr>\n",
       "    <tr>\n",
       "      <th>6</th>\n",
       "      <td>{'properties': {'description': '', 'title': 'F...</td>\n",
       "      <td>FeatureCollection</td>\n",
       "    </tr>\n",
       "    <tr>\n",
       "      <th>7</th>\n",
       "      <td>{'properties': {'description': 'Vault toilet',...</td>\n",
       "      <td>FeatureCollection</td>\n",
       "    </tr>\n",
       "    <tr>\n",
       "      <th>8</th>\n",
       "      <td>{'properties': {'description': 'Vault toilet',...</td>\n",
       "      <td>FeatureCollection</td>\n",
       "    </tr>\n",
       "    <tr>\n",
       "      <th>9</th>\n",
       "      <td>{'properties': {'description': 'Vault toilet',...</td>\n",
       "      <td>FeatureCollection</td>\n",
       "    </tr>\n",
       "    <tr>\n",
       "      <th>10</th>\n",
       "      <td>{'properties': {'description': '', 'title': 'F...</td>\n",
       "      <td>FeatureCollection</td>\n",
       "    </tr>\n",
       "  </tbody>\n",
       "</table>\n",
       "</div>"
      ],
      "text/plain": [
       "                                             features               type\n",
       "0   {'properties': {'description': 'Flush toilet, ...  FeatureCollection\n",
       "1   {'properties': {'description': 'Vault toilet',...  FeatureCollection\n",
       "2   {'properties': {'description': 'Flush toilet',...  FeatureCollection\n",
       "3   {'properties': {'description': 'Vault toilet',...  FeatureCollection\n",
       "4   {'properties': {'description': 'Vault toilet',...  FeatureCollection\n",
       "5   {'properties': {'description': 'Vault toilet',...  FeatureCollection\n",
       "6   {'properties': {'description': '', 'title': 'F...  FeatureCollection\n",
       "7   {'properties': {'description': 'Vault toilet',...  FeatureCollection\n",
       "8   {'properties': {'description': 'Vault toilet',...  FeatureCollection\n",
       "9   {'properties': {'description': 'Vault toilet',...  FeatureCollection\n",
       "10  {'properties': {'description': '', 'title': 'F...  FeatureCollection"
      ]
     },
     "execution_count": 29,
     "metadata": {},
     "output_type": "execute_result"
    }
   ],
   "source": [
    "test"
   ]
  },
  {
   "cell_type": "code",
   "execution_count": null,
   "metadata": {
    "collapsed": true
   },
   "outputs": [],
   "source": []
  }
 ],
 "metadata": {
  "kernelspec": {
   "display_name": "Python 3",
   "language": "python",
   "name": "python3"
  },
  "language_info": {
   "codemirror_mode": {
    "name": "ipython",
    "version": 3
   },
   "file_extension": ".py",
   "mimetype": "text/x-python",
   "name": "python",
   "nbconvert_exporter": "python",
   "pygments_lexer": "ipython3",
   "version": "3.5.2"
  }
 },
 "nbformat": 4,
 "nbformat_minor": 0
}
